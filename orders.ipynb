{
 "cells": [
  {
   "cell_type": "markdown",
   "metadata": {},
   "source": [
    "# Orders"
   ]
  },
  {
   "cell_type": "markdown",
   "metadata": {},
   "source": [
    "✏️ **Exercise**\n",
    "\n",
    "Today, we will investigate the **orders**, and their associated **review score**.\n",
    "\n",
    "👉 Our goal is to create a DataFrame with the following features:\n",
    "\n",
    "\n",
    "| feature_name \t| type \t| description \t|\n",
    "|:---\t|:---:\t|:---\t|\n",
    "| `order_id` \t| str \t| the id of the order \t|\n",
    "| `wait_time` \t| float \t| the number of days between order_purchase_timestamp and order_delivered_customer_date \t|\n",
    "| `expected_wait_time` \t| float \t| the number of days between order_purchase_timestamp and estimated_delivery_date \t|\n",
    "| `delay_vs_expected` \t| float \t| if the actual order_delivered_customer_date is later than the estimated delivery date, returns the number of days between the two dates, otherwise return 0 \t|\n",
    "| `order_status` \t| str \t| the status of the order \t|\n",
    "| `dim_is_five_star` \t| int \t| 1 if the order received a five-star review, 0 otherwise \t|\n",
    "| `dim_is_one_star` \t| int \t| 1 if the order received a one_star, 0 otherwise \t|\n",
    "| `review_score` \t| int \t| from 1 to 5 \t|\n",
    "| `number_of_items` \t| int \t| number of items that the order contains \t|\n",
    "| `number_of_sellers` \t| int \t| number of sellers involved in the order \t|\n",
    "| `price` \t| float \t| total price of the order paid by customer \t|\n",
    "| `freight_value` \t| float \t| value of the freight paid by customer \t|\n",
    "| `distance_customer_seller` \t| float \t| the distance in km between customer and seller (optional) \t|  \n",
    "  \n",
    "⚠️ We also want to filter out \"non-delivered\" orders, unless explicitly specified, otherwise we cannot compute the potential delays."
   ]
  },
  {
   "cell_type": "markdown",
   "metadata": {},
   "source": [
    "❓ **Your challenge**: \n",
    "\n",
    "- Implement each feature as a separate method within the `Order` class available at `olist/order.py`\n",
    "- Then, create a method `get_training_data()` that returns the complete DataFrame **without `NaN`s**.\n",
    "\n",
    "💡 Suggested methodology:\n",
    "- Use the notebook below to write and test your code step-by-step first\n",
    "- Then copy the code into `order.py` once you are certain of your code logic\n",
    "- Focus on the data manipulation logic now, we will analyse the dataset visually in the next challenges"
   ]
  },
  {
   "cell_type": "markdown",
   "metadata": {},
   "source": [
    "🔥 Notebook best practices (must-read) 👇\n",
    "\n",
    "<details>\n",
    "    <summary>▸ <i>click here</i></summary>\n",
    "\n",
    "From now on, exploratory notebooks are going to become pretty long, and we strongly advise you to follow these notebook principles:\n",
    "- Code your logic so that your Notebook can always be ran from top to bottom without crashing (Run --> Run All Cells)\n",
    "- Name your variables carefully \n",
    "- Use dummy names such as `tmp` or `_` for intermediary steps when you know you won't need them for long\n",
    "- Clear your code and merge cells when relevant to minimize Notebook size (`Shift-M`)\n",
    "- Make heavy use of of the collapsible headings and the table of content (call a TA if you can't find them)\n",
    "- Use the following shortcuts \n",
    "    - `a` to insert a cell above\n",
    "    - `b` to insert a cell below\n",
    "    - `dd` to delete a cell\n",
    "    - `esc` and `arrows` to move between cells\n",
    "    - `Shift-Enter` to execute cell and move focus to the next one\n",
    "    - use `Shift + Tab` when you are between method brackets e.g. `groupby()` to get the docs! Repeat a few times to open it permanently\n",
    "\n",
    "</details>\n",
    "\n",
    "\n",
    "\n"
   ]
  },
  {
   "cell_type": "code",
   "execution_count": 1,
   "metadata": {},
   "outputs": [],
   "source": [
    "# Auto reload imported module every time a jupyter cell is executed (handy for olist.order.py updates)\n",
    "%load_ext autoreload\n",
    "%autoreload 2"
   ]
  },
  {
   "cell_type": "code",
   "execution_count": 2,
   "metadata": {},
   "outputs": [],
   "source": [
    "# Import usual modules\n",
    "import pandas as pd\n",
    "import numpy as np\n",
    "import seaborn as sns\n",
    "import matplotlib.pyplot as plt"
   ]
  },
  {
   "cell_type": "code",
   "execution_count": 3,
   "metadata": {},
   "outputs": [],
   "source": [
    "%matplotlib inline"
   ]
  },
  {
   "cell_type": "code",
   "execution_count": 4,
   "metadata": {},
   "outputs": [
    {
     "name": "stdout",
     "output_type": "stream",
     "text": [
      "Starting get_data...\n",
      "CSV path: /home/dunia-121/.lewagon/olist/data/csv\n",
      "Found 9 files\n",
      "File names: ['olist_sellers_dataset.csv', 'olist_order_reviews_dataset.csv', 'olist_order_items_dataset.csv', 'olist_customers_dataset.csv', 'olist_orders_dataset.csv', 'olist_order_payments_dataset.csv', 'product_category_name_translation.csv', 'olist_products_dataset.csv', 'olist_geolocation_dataset.csv']\n",
      "Key names: ['sellers', 'order_reviews', 'order_items', 'customers', 'orders', 'order_payments', 'product_category_name_translation', 'products', 'geolocation']\n",
      "Loaded 9 dataframes\n",
      "Created dict with keys: ['sellers', 'order_reviews', 'order_items', 'customers', 'orders', 'order_payments', 'product_category_name_translation', 'products', 'geolocation']\n"
     ]
    }
   ],
   "source": [
    "# Import olist data\n",
    "from olist.data import Olist\n",
    "olist = Olist()\n",
    "data = olist.get_data()"
   ]
  },
  {
   "cell_type": "code",
   "execution_count": 5,
   "metadata": {},
   "outputs": [
    {
     "data": {
      "text/plain": [
       "dict_keys(['sellers', 'order_reviews', 'order_items', 'customers', 'orders', 'order_payments', 'product_category_name_translation', 'products', 'geolocation'])"
      ]
     },
     "execution_count": 5,
     "metadata": {},
     "output_type": "execute_result"
    }
   ],
   "source": [
    "# What datasets do we have access to now ?\n",
    "data.keys()"
   ]
  },
  {
   "cell_type": "code",
   "execution_count": 7,
   "metadata": {},
   "outputs": [],
   "source": [
    "orders = data['orders'].copy() # good practice to be sure not to modify your `data` variable\n",
    "\n",
    "assert(orders.shape == (99441, 8))"
   ]
  },
  {
   "cell_type": "markdown",
   "metadata": {},
   "source": [
    "## 1. Code `order.py`"
   ]
  },
  {
   "cell_type": "markdown",
   "metadata": {},
   "source": [
    "### a) `get_wait_time`\n",
    "    ❓ Return a Dataframe with:\n",
    "           order_id, wait_time, expected_wait_time, delay_vs_expected, order_status\n"
   ]
  },
  {
   "cell_type": "markdown",
   "metadata": {},
   "source": [
    "🎁 We give you the pseudo-code below 👇 for this first method:\n",
    "\n",
    "> 1. Inspect the `orders` dataframe\n",
    "2. Filter the dataframe on `delivered orders`\n",
    "3. Handle `datetime`\n",
    "    - Take time to understand what python [`datetime`](https://docs.python.org/3/library/datetime.html) objects are\n",
    "    - and convert dates from \"string\" type to \"pandas.datetime' using [`pandas.to_datetime()`](https://pandas.pydata.org/pandas-docs/stable/reference/api/pandas.to_datetime.html)\n",
    "4. Compute `wait_time` in days as a decimal number (starting from `order_purchase_timestamp`)\n",
    "5. Compute `expected_wait_time` in days as a decimal number (starting from `order_purchase_timestamp`)\n",
    "6. Compute `delay_vs_expected` in days as a decimal number (put `0` if the order is delivered earlier than estimated)\n",
    "7. Check the new dataframe \n",
    "8. Once you are satisfied with your code, you can carefully copy-paste it from the notebook to to `olist/order.py`\n",
    "9. Now try to load the data using your method in `orders.py`\n",
    "10. Your code will probably not work straightaway\n",
    "11. Make the necessary changes to make it work from inside a `.py` file\n",
    "\n",
    "We want `wait_time`, `expected_wait_time` and `delay_vs_expected` in decimal numbers, not as integers. Think about it: a wait time of 8.1 or 8.9 days is a big difference. So you can't use Pandas' `dt.day` because that rounds both down to 8.\n",
    "\n",
    "<details>\n",
    "    <summary>💡Hint</summary>\n",
    "\n",
    "For both `wait_time` and `delay_vs_expected`, you need to subtract the relevant dates/timestamps to get the time difference between the `pandas.datetime` objects. Then, you can either use [`datetime.timedelta()`](https://docs.python.org/3/library/datetime.html#timedelta-objects) or [`np.timedelta64()`](https://numpy.org/doc/stable/reference/arrays.datetime.html#datetime-and-timedelta-arithmetic) to find out how many days that subtraction represents!\n",
    "\n",
    "</details>"
   ]
  },
  {
   "cell_type": "code",
   "execution_count": null,
   "metadata": {
    "tags": [
     "challengify"
    ]
   },
   "outputs": [
    {
     "data": {
      "text/html": [
       "<div>\n",
       "<style scoped>\n",
       "    .dataframe tbody tr th:only-of-type {\n",
       "        vertical-align: middle;\n",
       "    }\n",
       "\n",
       "    .dataframe tbody tr th {\n",
       "        vertical-align: top;\n",
       "    }\n",
       "\n",
       "    .dataframe thead th {\n",
       "        text-align: right;\n",
       "    }\n",
       "</style>\n",
       "<table border=\"1\" class=\"dataframe\">\n",
       "  <thead>\n",
       "    <tr style=\"text-align: right;\">\n",
       "      <th></th>\n",
       "      <th>order_id</th>\n",
       "      <th>wait_time</th>\n",
       "      <th>expected_wait_time</th>\n",
       "      <th>delay_vs_expected</th>\n",
       "      <th>order_status</th>\n",
       "    </tr>\n",
       "  </thead>\n",
       "  <tbody>\n",
       "    <tr>\n",
       "      <th>0</th>\n",
       "      <td>e481f51cbdc54678b7cc49136f2d6af7</td>\n",
       "      <td>8.436574</td>\n",
       "      <td>15.544063</td>\n",
       "      <td>0.0</td>\n",
       "      <td>delivered</td>\n",
       "    </tr>\n",
       "    <tr>\n",
       "      <th>1</th>\n",
       "      <td>53cdb2fc8bc7dce0b6741e2150273451</td>\n",
       "      <td>13.782037</td>\n",
       "      <td>19.137766</td>\n",
       "      <td>0.0</td>\n",
       "      <td>delivered</td>\n",
       "    </tr>\n",
       "    <tr>\n",
       "      <th>2</th>\n",
       "      <td>47770eb9100c2d0c44946d9cf07ec65d</td>\n",
       "      <td>9.394213</td>\n",
       "      <td>26.639711</td>\n",
       "      <td>0.0</td>\n",
       "      <td>delivered</td>\n",
       "    </tr>\n",
       "    <tr>\n",
       "      <th>3</th>\n",
       "      <td>949d5b44dbf5de918fe9c16f97b45f8a</td>\n",
       "      <td>13.208750</td>\n",
       "      <td>26.188819</td>\n",
       "      <td>0.0</td>\n",
       "      <td>delivered</td>\n",
       "    </tr>\n",
       "    <tr>\n",
       "      <th>4</th>\n",
       "      <td>ad21c59c0840e6cb83a9ceb5573f8159</td>\n",
       "      <td>2.873877</td>\n",
       "      <td>12.112049</td>\n",
       "      <td>0.0</td>\n",
       "      <td>delivered</td>\n",
       "    </tr>\n",
       "  </tbody>\n",
       "</table>\n",
       "</div>"
      ],
      "text/plain": [
       "                           order_id  wait_time  expected_wait_time  \\\n",
       "0  e481f51cbdc54678b7cc49136f2d6af7   8.436574           15.544063   \n",
       "1  53cdb2fc8bc7dce0b6741e2150273451  13.782037           19.137766   \n",
       "2  47770eb9100c2d0c44946d9cf07ec65d   9.394213           26.639711   \n",
       "3  949d5b44dbf5de918fe9c16f97b45f8a  13.208750           26.188819   \n",
       "4  ad21c59c0840e6cb83a9ceb5573f8159   2.873877           12.112049   \n",
       "\n",
       "   delay_vs_expected order_status  \n",
       "0                0.0    delivered  \n",
       "1                0.0    delivered  \n",
       "2                0.0    delivered  \n",
       "3                0.0    delivered  \n",
       "4                0.0    delivered  "
      ]
     },
     "execution_count": 8,
     "metadata": {},
     "output_type": "execute_result"
    }
   ],
   "source": [
    "\n",
    "delivered_orders = orders[orders['order_status'] == 'delivered'].copy()\n",
    "\n",
    "\n",
    "delivered_orders['order_purchase_timestamp'] = pd.to_datetime(delivered_orders['order_purchase_timestamp'])\n",
    "delivered_orders['order_delivered_customer_date'] = pd.to_datetime(delivered_orders['order_delivered_customer_date'])\n",
    "delivered_orders['order_estimated_delivery_date'] = pd.to_datetime(delivered_orders['order_estimated_delivery_date'])\n",
    "\n",
    "\n",
    "delivered_orders['wait_time'] = (\n",
    "    (delivered_orders['order_delivered_customer_date'] - delivered_orders['order_purchase_timestamp'])\n",
    "    .dt.total_seconds() / 86400\n",
    ")\n",
    "\n",
    "\n",
    "delivered_orders['expected_wait_time'] = (\n",
    "    (delivered_orders['order_estimated_delivery_date'] - delivered_orders['order_purchase_timestamp'])\n",
    "    .dt.total_seconds() / 86400\n",
    ")\n",
    "\n",
    "\n",
    "delivered_orders['delay_vs_expected'] = (\n",
    "    (delivered_orders['order_delivered_customer_date'] - delivered_orders['order_estimated_delivery_date'])\n",
    "    .dt.total_seconds() / 86400\n",
    ")\n",
    "delivered_orders['delay_vs_expected'] = delivered_orders['delay_vs_expected'].apply(lambda x: x if x > 0 else 0)\n",
    "\n",
    "\n",
    "wait_time_df = delivered_orders[[\n",
    "    'order_id', 'wait_time', 'expected_wait_time', 'delay_vs_expected', 'order_status'\n",
    "]]\n",
    "\n",
    "wait_time_df.head()\n"
   ]
  },
  {
   "cell_type": "markdown",
   "metadata": {},
   "source": [
    "👀 Check the dataframe you've just created. <br/> \n",
    "\n",
    "💪 When your code works, bring your code over to `olist/order.py` <br/>\n",
    "\n",
    "🧪 Now, test it by running the following cell 👇 "
   ]
  },
  {
   "cell_type": "code",
   "execution_count": 21,
   "metadata": {},
   "outputs": [
    {
     "name": "stdout",
     "output_type": "stream",
     "text": [
      "Starting get_data...\n",
      "CSV path: /home/dunia-121/.lewagon/olist/data/csv\n",
      "Found 9 files\n",
      "File names: ['olist_sellers_dataset.csv', 'olist_order_reviews_dataset.csv', 'olist_order_items_dataset.csv', 'olist_customers_dataset.csv', 'olist_orders_dataset.csv', 'olist_order_payments_dataset.csv', 'product_category_name_translation.csv', 'olist_products_dataset.csv', 'olist_geolocation_dataset.csv']\n",
      "Key names: ['sellers', 'order_reviews', 'order_items', 'customers', 'orders', 'order_payments', 'product_category_name_translation', 'products', 'geolocation']\n",
      "Loaded 9 dataframes\n",
      "Created dict with keys: ['sellers', 'order_reviews', 'order_items', 'customers', 'orders', 'order_payments', 'product_category_name_translation', 'products', 'geolocation']\n",
      "Starting get_data...\n",
      "CSV path: /home/dunia-121/.lewagon/olist/data/csv\n",
      "Found 9 files\n",
      "File names: ['olist_sellers_dataset.csv', 'olist_order_reviews_dataset.csv', 'olist_order_items_dataset.csv', 'olist_customers_dataset.csv', 'olist_orders_dataset.csv', 'olist_order_payments_dataset.csv', 'product_category_name_translation.csv', 'olist_products_dataset.csv', 'olist_geolocation_dataset.csv']\n",
      "Key names: ['sellers', 'order_reviews', 'order_items', 'customers', 'orders', 'order_payments', 'product_category_name_translation', 'products', 'geolocation']\n",
      "Loaded 9 dataframes\n",
      "Created dict with keys: ['sellers', 'order_reviews', 'order_items', 'customers', 'orders', 'order_payments', 'product_category_name_translation', 'products', 'geolocation']\n"
     ]
    },
    {
     "data": {
      "text/html": [
       "<div>\n",
       "<style scoped>\n",
       "    .dataframe tbody tr th:only-of-type {\n",
       "        vertical-align: middle;\n",
       "    }\n",
       "\n",
       "    .dataframe tbody tr th {\n",
       "        vertical-align: top;\n",
       "    }\n",
       "\n",
       "    .dataframe thead th {\n",
       "        text-align: right;\n",
       "    }\n",
       "</style>\n",
       "<table border=\"1\" class=\"dataframe\">\n",
       "  <thead>\n",
       "    <tr style=\"text-align: right;\">\n",
       "      <th></th>\n",
       "      <th>order_id</th>\n",
       "      <th>wait_time</th>\n",
       "      <th>expected_wait_time</th>\n",
       "      <th>delay_vs_expected</th>\n",
       "      <th>order_status</th>\n",
       "    </tr>\n",
       "  </thead>\n",
       "  <tbody>\n",
       "    <tr>\n",
       "      <th>0</th>\n",
       "      <td>e481f51cbdc54678b7cc49136f2d6af7</td>\n",
       "      <td>8.436574</td>\n",
       "      <td>15.544063</td>\n",
       "      <td>0.0</td>\n",
       "      <td>delivered</td>\n",
       "    </tr>\n",
       "    <tr>\n",
       "      <th>1</th>\n",
       "      <td>53cdb2fc8bc7dce0b6741e2150273451</td>\n",
       "      <td>13.782037</td>\n",
       "      <td>19.137766</td>\n",
       "      <td>0.0</td>\n",
       "      <td>delivered</td>\n",
       "    </tr>\n",
       "    <tr>\n",
       "      <th>2</th>\n",
       "      <td>47770eb9100c2d0c44946d9cf07ec65d</td>\n",
       "      <td>9.394213</td>\n",
       "      <td>26.639711</td>\n",
       "      <td>0.0</td>\n",
       "      <td>delivered</td>\n",
       "    </tr>\n",
       "    <tr>\n",
       "      <th>3</th>\n",
       "      <td>949d5b44dbf5de918fe9c16f97b45f8a</td>\n",
       "      <td>13.208750</td>\n",
       "      <td>26.188819</td>\n",
       "      <td>0.0</td>\n",
       "      <td>delivered</td>\n",
       "    </tr>\n",
       "    <tr>\n",
       "      <th>4</th>\n",
       "      <td>ad21c59c0840e6cb83a9ceb5573f8159</td>\n",
       "      <td>2.873877</td>\n",
       "      <td>12.112049</td>\n",
       "      <td>0.0</td>\n",
       "      <td>delivered</td>\n",
       "    </tr>\n",
       "    <tr>\n",
       "      <th>...</th>\n",
       "      <td>...</td>\n",
       "      <td>...</td>\n",
       "      <td>...</td>\n",
       "      <td>...</td>\n",
       "      <td>...</td>\n",
       "    </tr>\n",
       "    <tr>\n",
       "      <th>99436</th>\n",
       "      <td>9c5dedf39a927c1b2549525ed64a053c</td>\n",
       "      <td>8.218009</td>\n",
       "      <td>18.587442</td>\n",
       "      <td>0.0</td>\n",
       "      <td>delivered</td>\n",
       "    </tr>\n",
       "    <tr>\n",
       "      <th>99437</th>\n",
       "      <td>63943bddc261676b46f01ca7ac2f7bd8</td>\n",
       "      <td>22.193727</td>\n",
       "      <td>23.459051</td>\n",
       "      <td>0.0</td>\n",
       "      <td>delivered</td>\n",
       "    </tr>\n",
       "    <tr>\n",
       "      <th>99438</th>\n",
       "      <td>83c1379a015df1e13d02aae0204711ab</td>\n",
       "      <td>24.859421</td>\n",
       "      <td>30.384225</td>\n",
       "      <td>0.0</td>\n",
       "      <td>delivered</td>\n",
       "    </tr>\n",
       "    <tr>\n",
       "      <th>99439</th>\n",
       "      <td>11c177c8e97725db2631073c19f07b62</td>\n",
       "      <td>17.086424</td>\n",
       "      <td>37.105243</td>\n",
       "      <td>0.0</td>\n",
       "      <td>delivered</td>\n",
       "    </tr>\n",
       "    <tr>\n",
       "      <th>99440</th>\n",
       "      <td>66dea50a8b16d9b4dee7af250b4be1a5</td>\n",
       "      <td>7.674306</td>\n",
       "      <td>25.126736</td>\n",
       "      <td>0.0</td>\n",
       "      <td>delivered</td>\n",
       "    </tr>\n",
       "  </tbody>\n",
       "</table>\n",
       "<p>96478 rows × 5 columns</p>\n",
       "</div>"
      ],
      "text/plain": [
       "                               order_id  wait_time  expected_wait_time  \\\n",
       "0      e481f51cbdc54678b7cc49136f2d6af7   8.436574           15.544063   \n",
       "1      53cdb2fc8bc7dce0b6741e2150273451  13.782037           19.137766   \n",
       "2      47770eb9100c2d0c44946d9cf07ec65d   9.394213           26.639711   \n",
       "3      949d5b44dbf5de918fe9c16f97b45f8a  13.208750           26.188819   \n",
       "4      ad21c59c0840e6cb83a9ceb5573f8159   2.873877           12.112049   \n",
       "...                                 ...        ...                 ...   \n",
       "99436  9c5dedf39a927c1b2549525ed64a053c   8.218009           18.587442   \n",
       "99437  63943bddc261676b46f01ca7ac2f7bd8  22.193727           23.459051   \n",
       "99438  83c1379a015df1e13d02aae0204711ab  24.859421           30.384225   \n",
       "99439  11c177c8e97725db2631073c19f07b62  17.086424           37.105243   \n",
       "99440  66dea50a8b16d9b4dee7af250b4be1a5   7.674306           25.126736   \n",
       "\n",
       "       delay_vs_expected order_status  \n",
       "0                    0.0    delivered  \n",
       "1                    0.0    delivered  \n",
       "2                    0.0    delivered  \n",
       "3                    0.0    delivered  \n",
       "4                    0.0    delivered  \n",
       "...                  ...          ...  \n",
       "99436                0.0    delivered  \n",
       "99437                0.0    delivered  \n",
       "99438                0.0    delivered  \n",
       "99439                0.0    delivered  \n",
       "99440                0.0    delivered  \n",
       "\n",
       "[96478 rows x 5 columns]"
      ]
     },
     "execution_count": 21,
     "metadata": {},
     "output_type": "execute_result"
    }
   ],
   "source": [
    "# Test your code here\n",
    "from olist.order import Order\n",
    "Order().get_wait_time()\n"
   ]
  },
  {
   "cell_type": "code",
   "execution_count": 22,
   "metadata": {},
   "outputs": [
    {
     "name": "stdout",
     "output_type": "stream",
     "text": [
      "Starting get_data...\n",
      "CSV path: /home/dunia-121/.lewagon/olist/data/csv\n",
      "Found 9 files\n",
      "File names: ['olist_sellers_dataset.csv', 'olist_order_reviews_dataset.csv', 'olist_order_items_dataset.csv', 'olist_customers_dataset.csv', 'olist_orders_dataset.csv', 'olist_order_payments_dataset.csv', 'product_category_name_translation.csv', 'olist_products_dataset.csv', 'olist_geolocation_dataset.csv']\n",
      "Key names: ['sellers', 'order_reviews', 'order_items', 'customers', 'orders', 'order_payments', 'product_category_name_translation', 'products', 'geolocation']\n",
      "Loaded 9 dataframes\n",
      "Created dict with keys: ['sellers', 'order_reviews', 'order_items', 'customers', 'orders', 'order_payments', 'product_category_name_translation', 'products', 'geolocation']\n",
      "Starting get_data...\n",
      "CSV path: /home/dunia-121/.lewagon/olist/data/csv\n",
      "Found 9 files\n",
      "File names: ['olist_sellers_dataset.csv', 'olist_order_reviews_dataset.csv', 'olist_order_items_dataset.csv', 'olist_customers_dataset.csv', 'olist_orders_dataset.csv', 'olist_order_payments_dataset.csv', 'product_category_name_translation.csv', 'olist_products_dataset.csv', 'olist_geolocation_dataset.csv']\n",
      "Key names: ['sellers', 'order_reviews', 'order_items', 'customers', 'orders', 'order_payments', 'product_category_name_translation', 'products', 'geolocation']\n",
      "Loaded 9 dataframes\n",
      "Created dict with keys: ['sellers', 'order_reviews', 'order_items', 'customers', 'orders', 'order_payments', 'product_category_name_translation', 'products', 'geolocation']\n",
      "\n",
      "\u001b[1m============================= test session starts ==============================\u001b[0m\n",
      "platform linux -- Python 3.12.9, pytest-8.3.4, pluggy-1.5.0 -- /home/dunia-121/.pyenv/versions/3.12.9/envs/lewagon/bin/python\n",
      "cachedir: .pytest_cache\n",
      "rootdir: /home/dunia-121/code/Dounia122/03-Decision-Science/01-Statistical-Inference/data-orders\n",
      "configfile: pytest.ini\n",
      "plugins: typeguard-4.4.2, anyio-4.8.0\n",
      "\u001b[1mcollecting ... \u001b[0mcollected 1 item\n",
      "\n",
      "test_wait_time.py::TestWaitTime::test_wait_time \u001b[32mPASSED\u001b[0m\u001b[32m                   [100%]\u001b[0m\n",
      "\n",
      "\u001b[32m============================== \u001b[32m\u001b[1m1 passed\u001b[0m\u001b[32m in 0.50s\u001b[0m\u001b[32m ===============================\u001b[0m\n",
      "\n",
      "\n",
      "💯 You can commit your code:\n",
      "\n",
      "\u001b[1;32mgit\u001b[39m add tests/wait_time.pickle\n",
      "\n",
      "\u001b[32mgit\u001b[39m commit -m \u001b[33m'Completed wait_time step'\u001b[39m\n",
      "\n",
      "\u001b[32mgit\u001b[39m push origin master\n",
      "\n"
     ]
    }
   ],
   "source": [
    "from nbresult import ChallengeResult\n",
    "test = Order().get_wait_time()\n",
    "result = ChallengeResult('wait_time', dve_type=test[\"delay_vs_expected\"].dtype, shape=test.shape, dve_min=test[\"delay_vs_expected\"].min(), dve_max=test[\"delay_vs_expected\"].max())\n",
    "result.write(); \n",
    "print(result.check())"
   ]
  },
  {
   "cell_type": "markdown",
   "metadata": {},
   "source": [
    "⚠️ Don't forget to also commit the code changes in `order.py` in your `olist` repo!"
   ]
  },
  {
   "cell_type": "markdown",
   "metadata": {},
   "source": [
    "### b) `get_review_score`\n",
    "     ❓ Returns a DataFrame with:\n",
    "        order_id, dim_is_five_star, dim_is_one_star, review_score\n",
    "\n",
    "dim_is_$N$_star should contain `1` if review_score=$N$ and `0` otherwise \n",
    "\n",
    "<details>\n",
    "    <summary markdown='span'>Hints</summary>\n",
    "\n",
    "Think about `Series.map()` or `DataFrame.apply()`\n",
    "    \n",
    "</details>"
   ]
  },
  {
   "cell_type": "markdown",
   "metadata": {},
   "source": [
    "👉 We load the `reviews` for you"
   ]
  },
  {
   "cell_type": "code",
   "execution_count": null,
   "metadata": {},
   "outputs": [],
   "source": [
    "reviews = data['order_reviews'].copy()\n",
    "assert(reviews.shape == (99224,7))\n",
    "reviews"
   ]
  },
  {
   "cell_type": "code",
   "execution_count": null,
   "metadata": {
    "tags": [
     "challengify"
    ]
   },
   "outputs": [],
   "source": [
    "# YOUR CODE HERE"
   ]
  },
  {
   "cell_type": "markdown",
   "metadata": {},
   "source": [
    "Once again, \n",
    "\n",
    "👀 Check the dataframe you've just created. <br/> \n",
    "\n",
    "💪 When your code works, bring your code over to `olist/order.py` <br/>\n",
    "\n",
    "🧪 Now, test it by running the following cell 👇 "
   ]
  },
  {
   "cell_type": "code",
   "execution_count": null,
   "metadata": {},
   "outputs": [],
   "source": [
    "# Test your code here\n",
    "from olist.order import Order\n",
    "Order().get_review_score()"
   ]
  },
  {
   "cell_type": "code",
   "execution_count": null,
   "metadata": {},
   "outputs": [],
   "source": [
    "from nbresult import ChallengeResult\n",
    "result = ChallengeResult('review_score', shape=Order().get_review_score().shape)\n",
    "result.write(); print(result.check())"
   ]
  },
  {
   "cell_type": "markdown",
   "metadata": {},
   "source": [
    "⚠️ Don't forget to also commit the code changes in `order.py` in your `olist` repo!"
   ]
  },
  {
   "cell_type": "markdown",
   "metadata": {},
   "source": [
    "### c) `get_number_items`:\n",
    "     ❓ Returns a DataFrame with:\n",
    "        order_id, number_of_items (total number of items per order)"
   ]
  },
  {
   "cell_type": "code",
   "execution_count": null,
   "metadata": {
    "tags": [
     "challengify"
    ]
   },
   "outputs": [
    {
     "name": "stdout",
     "output_type": "stream",
     "text": [
      "Starting get_data...\n",
      "CSV path: /home/dunia-121/.lewagon/olist/data/csv\n",
      "Found 9 files\n",
      "File names: ['olist_sellers_dataset.csv', 'olist_order_reviews_dataset.csv', 'olist_order_items_dataset.csv', 'olist_customers_dataset.csv', 'olist_orders_dataset.csv', 'olist_order_payments_dataset.csv', 'product_category_name_translation.csv', 'olist_products_dataset.csv', 'olist_geolocation_dataset.csv']\n",
      "Key names: ['sellers', 'order_reviews', 'order_items', 'customers', 'orders', 'order_payments', 'product_category_name_translation', 'products', 'geolocation']\n",
      "Loaded 9 dataframes\n",
      "Created dict with keys: ['sellers', 'order_reviews', 'order_items', 'customers', 'orders', 'order_payments', 'product_category_name_translation', 'products', 'geolocation']\n"
     ]
    },
    {
     "data": {
      "text/plain": [
       "order_id\n",
       "00010242fe8c5a6d1ba2dd792cb16214    1\n",
       "00018f77f2f0320c557190d7a144bdd3    1\n",
       "000229ec398224ef6ca0657da4fc703e    1\n",
       "00024acbcdf0a6daa1e931b038114c75    1\n",
       "00042b26cf59d7ce69dfabb4e55b4fd9    1\n",
       "                                   ..\n",
       "fffc94f6ce00a00581880bf54a75a037    1\n",
       "fffcd46ef2263f404302a634eb57f7eb    1\n",
       "fffce4705a9662cd70adb13d4a31832d    1\n",
       "fffe18544ffabc95dfada21779c9644f    1\n",
       "fffe41c64501cc87c801fd61db3f6244    1\n",
       "Length: 98666, dtype: int64"
      ]
     },
     "execution_count": 28,
     "metadata": {},
     "output_type": "execute_result"
    }
   ],
   "source": [
    "\n",
    "data= olist.get_data()\n",
    "data['order_items'].groupby('order_id').size().value_counts()"
   ]
  },
  {
   "cell_type": "markdown",
   "metadata": {},
   "source": [
    "🧪 Same routine: \n",
    "* check your dataframe, \n",
    "* bring your code over to `olist/order.py`\n",
    "* and check that it truly works."
   ]
  },
  {
   "cell_type": "code",
   "execution_count": null,
   "metadata": {},
   "outputs": [],
   "source": [
    "from nbresult import ChallengeResult\n",
    "result = ChallengeResult('number_items',\n",
    "                         shape=Order().get_number_items().shape,\n",
    "                         columns=Order().get_number_items().columns)\n",
    "result.write(); print(result.check())"
   ]
  },
  {
   "cell_type": "markdown",
   "metadata": {},
   "source": [
    "⚠️ Don't forget to also commit the code changes in `order.py` in your `olist` repo!"
   ]
  },
  {
   "cell_type": "markdown",
   "metadata": {},
   "source": [
    "### d) `get_number_sellers`:\n",
    "     ❓ Returns a DataFrame with:\n",
    "        order_id, number_of_sellers (total number of unique sellers per order)\n",
    "        \n",
    "<details>\n",
    "    <summary>▸ <i>Hint</i></summary>\n",
    "\n",
    "`pd.Series.nunique()`\n",
    "</details>"
   ]
  },
  {
   "cell_type": "code",
   "execution_count": null,
   "metadata": {
    "tags": [
     "challengify"
    ]
   },
   "outputs": [],
   "source": [
    "# YOUR CODE HERE"
   ]
  },
  {
   "cell_type": "code",
   "execution_count": null,
   "metadata": {},
   "outputs": [],
   "source": [
    "from nbresult import ChallengeResult\n",
    "result = ChallengeResult('number_sellers',\n",
    "                         shape=Order().get_number_sellers().shape,\n",
    "                         columns=Order().get_number_sellers().columns)\n",
    "result.write(); print(result.check())"
   ]
  },
  {
   "cell_type": "markdown",
   "metadata": {},
   "source": [
    "⚠️ Don't forget to also commit the code changes in `order.py` in your `olist` repo!"
   ]
  },
  {
   "cell_type": "markdown",
   "metadata": {},
   "source": [
    "### e) `get_price_and_freight`\n",
    "     Returns a DataFrame with:\n",
    "        order_id, price, freight_value"
   ]
  },
  {
   "cell_type": "code",
   "execution_count": null,
   "metadata": {
    "tags": [
     "challengify"
    ]
   },
   "outputs": [],
   "source": [
    "# YOUR CODE HERE"
   ]
  },
  {
   "cell_type": "code",
   "execution_count": null,
   "metadata": {},
   "outputs": [],
   "source": [
    "from nbresult import ChallengeResult\n",
    "result = ChallengeResult('price', shape=Order().get_price_and_freight().shape)\n",
    "result.write(); print(result.check())"
   ]
  },
  {
   "cell_type": "markdown",
   "metadata": {},
   "source": [
    "⚠️ Don't forget to also commit the code changes in `order.py` in your `olist` repo!"
   ]
  },
  {
   "cell_type": "markdown",
   "metadata": {},
   "source": [
    "## 2. All at once: `get_training_data`"
   ]
  },
  {
   "cell_type": "markdown",
   "metadata": {},
   "source": [
    "❓ Time to code `get_training_data` making use of your previous coded methods, to gather all order features in one table"
   ]
  },
  {
   "cell_type": "code",
   "execution_count": null,
   "metadata": {},
   "outputs": [],
   "source": [
    "# YOUR CODE HERE"
   ]
  },
  {
   "cell_type": "markdown",
   "metadata": {},
   "source": [
    "🧪  Test it below"
   ]
  },
  {
   "cell_type": "code",
   "execution_count": null,
   "metadata": {},
   "outputs": [],
   "source": [
    "from nbresult import ChallengeResult\n",
    "from olist.order import Order\n",
    "data = Order().get_training_data()\n",
    "\n",
    "result = ChallengeResult('training',\n",
    "    shape=data.shape,\n",
    "    columns=sorted(list(data.columns))\n",
    ")\n",
    "result.write()\n",
    "print(result.check())"
   ]
  },
  {
   "cell_type": "markdown",
   "metadata": {},
   "source": [
    "💡 **Not getting the exact number of rows?**\n",
    "<details><summary>Do you have a difference of 8 rows?</summary>\n",
    "At the end we want a Dataframe without NaNs. Try to get rid of those. (Don't make it too complex: you only need to change one line in your code.)\n",
    "</details>\n",
    "<details><summary>Do you have another difference?</summary>\n",
    "Maybe something went wrong when merging all the steps in one Dataframe? Check your merges.\n",
    "</details>"
   ]
  },
  {
   "cell_type": "markdown",
   "metadata": {},
   "source": [
    "🏁 Congratulations! \n",
    "\n",
    "💾 Commit and push your notebook and your code in `olist/order.py` before starting the next challenge."
   ]
  },
  {
   "cell_type": "markdown",
   "metadata": {},
   "source": [
    "## 3. [OPTIONAL] `get_distance_seller_customer` \n",
    "**Try to code this function only after finishing today's challenges.**\n",
    "\n",
    "**First skip to the next challenge.**\n",
    "\n",
    "    ❓ Returns a Dataframe with:\n",
    "        order_id, distance_seller_customer (the distance in km between customer and seller)\n",
    "\n",
    "💡 Have a look at the `haversine_distance` formula we coded for you in the `olist.utils` module\n",
    "\n",
    "Use this to code `get_distance_seller_customer`.\n",
    "\n",
    "⚠️ Since an order can have multiple sellers, take the average seller-customer distance per order."
   ]
  },
  {
   "cell_type": "code",
   "execution_count": null,
   "metadata": {},
   "outputs": [],
   "source": [
    "# YOUR CODE HERE"
   ]
  },
  {
   "cell_type": "code",
   "execution_count": null,
   "metadata": {},
   "outputs": [],
   "source": [
    "matching_geo = Order().get_distance_seller_customer()"
   ]
  },
  {
   "cell_type": "markdown",
   "metadata": {},
   "source": [
    "👉 Let's quickly check the distribution of the distance seller-customer :)"
   ]
  },
  {
   "cell_type": "code",
   "execution_count": null,
   "metadata": {},
   "outputs": [],
   "source": [
    "sns.displot(data = matching_geo, x ='distance_seller_customer')"
   ]
  },
  {
   "cell_type": "markdown",
   "metadata": {},
   "source": [
    "👉 What is the median and the average seller-customer distance ?"
   ]
  },
  {
   "cell_type": "code",
   "execution_count": null,
   "metadata": {},
   "outputs": [],
   "source": [
    "matching_geo['distance_seller_customer'].describe()"
   ]
  },
  {
   "cell_type": "markdown",
   "metadata": {},
   "source": [
    "👀 Check your new dataframe and bring your code over to olist/order.py when it works. "
   ]
  },
  {
   "cell_type": "code",
   "execution_count": null,
   "metadata": {},
   "outputs": [],
   "source": [
    "Order().get_distance_seller_customer()['distance_seller_customer']"
   ]
  },
  {
   "cell_type": "markdown",
   "metadata": {},
   "source": [
    "🧪  Test your code"
   ]
  },
  {
   "cell_type": "code",
   "execution_count": null,
   "metadata": {},
   "outputs": [],
   "source": [
    "from nbresult import ChallengeResult\n",
    "\n",
    "result = ChallengeResult('distance',\n",
    "    mean = Order().get_distance_seller_customer()['distance_seller_customer'].mean())\n",
    "result.write()\n",
    "print(result.check())"
   ]
  },
  {
   "cell_type": "markdown",
   "metadata": {},
   "source": [
    "Now also update `get_training_data` to merge the `get_distance_seller_customer` if `with_distance_seller_customer` is set to `True`."
   ]
  },
  {
   "cell_type": "markdown",
   "metadata": {},
   "source": [
    "⚠️ Don't forget to also commit the code changes in `order.py` in your `olist` repo!"
   ]
  }
 ],
 "metadata": {
  "kernelspec": {
   "display_name": "lewagon",
   "language": "python",
   "name": "python3"
  },
  "language_info": {
   "codemirror_mode": {
    "name": "ipython",
    "version": 3
   },
   "file_extension": ".py",
   "mimetype": "text/x-python",
   "name": "python",
   "nbconvert_exporter": "python",
   "pygments_lexer": "ipython3",
   "version": "3.12.9"
  }
 },
 "nbformat": 4,
 "nbformat_minor": 4
}
